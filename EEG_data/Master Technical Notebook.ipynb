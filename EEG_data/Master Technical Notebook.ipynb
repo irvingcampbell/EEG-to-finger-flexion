{
 "cells": [
  {
   "cell_type": "markdown",
   "metadata": {},
   "source": [
    "Ok, so let's get an order here.\n",
    "\n",
    "I think the general flow should be\n",
    "\n",
    "1. Title statement\n",
    "\n",
    "   Title\n",
    "   Authorship\n",
    "   Problem statement: What am I trying to do?\n",
    "\n",
    "2. Problem discussion\n",
    "   Issues with this particular problem: Noisy data, Removal of artifacts, Feature Selection\n",
    "   \n",
    "3. Data Cleaning Implementation\n",
    "   Remove 60 Hz interference with filter_elec_noise (this data is from the U.S. - Albany, to be specific)\n",
    "   Explain why running WPT is advisable\n",
    "   Run WPT with wpt_gather_all_nodes\n",
    "   Find node with max std with...node_with_max_std\n",
    "   Remove those nodes that need to be removed (discuss cutoff threshold for this)\n",
    "   Reassemble\n",
    "   Run ICA\n",
    "   Zero the channels with the largest kurtosis (That's it! Artifacts removed!)\n",
    "  \n",
    "4. Feature selection\n",
    "   Sampling frequency differences mean I am using 400 previous samples of input for every output\n",
    "   Discusse features: mav, peak, std, alpha, beta, theta, delta, gamma\n",
    "   \n",
    "   \n",
    "  - kd"
   ]
  },
  {
   "cell_type": "markdown",
   "metadata": {},
   "source": [
    "# TITLE GOES HERE\n",
    "\n",
    "#### Author: Irving Campbell\n",
    "\n",
    "## Problem statement: Can we determine which finger on a person's hand is moving based on only on that patient's electrocortigraphical (ECoG) data?\n",
    "\n"
   ]
  },
  {
   "cell_type": "code",
   "execution_count": 1,
   "metadata": {},
   "outputs": [
    {
     "name": "stdout",
     "output_type": "stream",
     "text": [
      "importing Jupyter notebook from data_prep.ipynb\n"
     ]
    }
   ],
   "source": [
    "import import_ipynb\n",
    "from data_prep import *\n",
    "X2, y2 = download_and_shape_data()"
   ]
  },
  {
   "cell_type": "code",
   "execution_count": 2,
   "metadata": {},
   "outputs": [],
   "source": [
    "X2_filtered, adjusted_array = filter_elec_noise(60.0, 60.0, 1000, X2['train_data'])"
   ]
  },
  {
   "cell_type": "code",
   "execution_count": null,
   "metadata": {},
   "outputs": [],
   "source": []
  }
 ],
 "metadata": {
  "kernelspec": {
   "display_name": "Python 3",
   "language": "python",
   "name": "python3"
  },
  "language_info": {
   "codemirror_mode": {
    "name": "ipython",
    "version": 3
   },
   "file_extension": ".py",
   "mimetype": "text/x-python",
   "name": "python",
   "nbconvert_exporter": "python",
   "pygments_lexer": "ipython3",
   "version": "3.7.3"
  }
 },
 "nbformat": 4,
 "nbformat_minor": 2
}
